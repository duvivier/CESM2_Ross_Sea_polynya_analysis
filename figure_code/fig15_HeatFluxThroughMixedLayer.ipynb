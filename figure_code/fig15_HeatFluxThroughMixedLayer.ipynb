{
 "cells": [
  {
   "cell_type": "markdown",
   "id": "1331540c-6515-42b7-9248-67ac813d6b58",
   "metadata": {},
   "source": [
    "## Obtain heat flux through mixed layer time series for Ross Sea"
   ]
  },
  {
   "cell_type": "code",
   "execution_count": 1,
   "id": "350da147-7b14-471b-8d13-d427a1983632",
   "metadata": {},
   "outputs": [],
   "source": [
    "%load_ext autoreload\n",
    "\n",
    "import warnings \n",
    "warnings.filterwarnings(\"ignore\")\n",
    "\n",
    "import xarray as xr\n",
    "import numpy as np\n",
    "import matplotlib.pyplot as plt\n",
    "import matplotlib.colors as cls\n",
    "import dask\n",
    "import intake \n",
    "\n",
    "from distributed import Client\n",
    "from ncar_jobqueue import NCARCluster\n",
    "from dask_jobqueue import PBSCluster"
   ]
  },
  {
   "cell_type": "code",
   "execution_count": 2,
   "id": "0b33823e-0471-436a-9fc2-afb01cd34d67",
   "metadata": {},
   "outputs": [
    {
     "data": {
      "text/html": [
       "<div>\n",
       "    <div style=\"width: 24px; height: 24px; background-color: #e1e1e1; border: 3px solid #9D9D9D; border-radius: 5px; position: absolute;\"> </div>\n",
       "    <div style=\"margin-left: 48px;\">\n",
       "        <h3 style=\"margin-bottom: 0px;\">Client</h3>\n",
       "        <p style=\"color: #9D9D9D; margin-bottom: 0px;\">Client-0e588dd2-16cc-11ee-af6b-ac1f6bca6f4c</p>\n",
       "        <table style=\"width: 100%; text-align: left;\">\n",
       "\n",
       "        <tr>\n",
       "        \n",
       "            <td style=\"text-align: left;\"><strong>Connection method:</strong> Cluster object</td>\n",
       "            <td style=\"text-align: left;\"><strong>Cluster type:</strong> dask_jobqueue.PBSCluster</td>\n",
       "        \n",
       "        </tr>\n",
       "\n",
       "        \n",
       "            <tr>\n",
       "                <td style=\"text-align: left;\">\n",
       "                    <strong>Dashboard: </strong> <a href=\"https://jupyterhub.hpc.ucar.edu/stable/user/duvivier/proxy/8787/status\" target=\"_blank\">https://jupyterhub.hpc.ucar.edu/stable/user/duvivier/proxy/8787/status</a>\n",
       "                </td>\n",
       "                <td style=\"text-align: left;\"></td>\n",
       "            </tr>\n",
       "        \n",
       "\n",
       "        </table>\n",
       "\n",
       "        \n",
       "            <details>\n",
       "            <summary style=\"margin-bottom: 20px;\"><h3 style=\"display: inline;\">Cluster Info</h3></summary>\n",
       "            <div class=\"jp-RenderedHTMLCommon jp-RenderedHTML jp-mod-trusted jp-OutputArea-output\">\n",
       "    <div style=\"width: 24px; height: 24px; background-color: #e1e1e1; border: 3px solid #9D9D9D; border-radius: 5px; position: absolute;\">\n",
       "    </div>\n",
       "    <div style=\"margin-left: 48px;\">\n",
       "        <h3 style=\"margin-bottom: 0px; margin-top: 0px;\">PBSCluster</h3>\n",
       "        <p style=\"color: #9D9D9D; margin-bottom: 0px;\">027f5f04</p>\n",
       "        <table style=\"width: 100%; text-align: left;\">\n",
       "            <tr>\n",
       "                <td style=\"text-align: left;\">\n",
       "                    <strong>Dashboard:</strong> <a href=\"https://jupyterhub.hpc.ucar.edu/stable/user/duvivier/proxy/8787/status\" target=\"_blank\">https://jupyterhub.hpc.ucar.edu/stable/user/duvivier/proxy/8787/status</a>\n",
       "                </td>\n",
       "                <td style=\"text-align: left;\">\n",
       "                    <strong>Workers:</strong> 0\n",
       "                </td>\n",
       "            </tr>\n",
       "            <tr>\n",
       "                <td style=\"text-align: left;\">\n",
       "                    <strong>Total threads:</strong> 0\n",
       "                </td>\n",
       "                <td style=\"text-align: left;\">\n",
       "                    <strong>Total memory:</strong> 0 B\n",
       "                </td>\n",
       "            </tr>\n",
       "            \n",
       "        </table>\n",
       "\n",
       "        <details>\n",
       "            <summary style=\"margin-bottom: 20px;\">\n",
       "                <h3 style=\"display: inline;\">Scheduler Info</h3>\n",
       "            </summary>\n",
       "\n",
       "            <div style=\"\">\n",
       "    <div>\n",
       "        <div style=\"width: 24px; height: 24px; background-color: #FFF7E5; border: 3px solid #FF6132; border-radius: 5px; position: absolute;\"> </div>\n",
       "        <div style=\"margin-left: 48px;\">\n",
       "            <h3 style=\"margin-bottom: 0px;\">Scheduler</h3>\n",
       "            <p style=\"color: #9D9D9D; margin-bottom: 0px;\">Scheduler-79b7856d-1df0-4a3a-80d6-153c1c9b65a8</p>\n",
       "            <table style=\"width: 100%; text-align: left;\">\n",
       "                <tr>\n",
       "                    <td style=\"text-align: left;\">\n",
       "                        <strong>Comm:</strong> tcp://10.12.206.20:41184\n",
       "                    </td>\n",
       "                    <td style=\"text-align: left;\">\n",
       "                        <strong>Workers:</strong> 0\n",
       "                    </td>\n",
       "                </tr>\n",
       "                <tr>\n",
       "                    <td style=\"text-align: left;\">\n",
       "                        <strong>Dashboard:</strong> <a href=\"https://jupyterhub.hpc.ucar.edu/stable/user/duvivier/proxy/8787/status\" target=\"_blank\">https://jupyterhub.hpc.ucar.edu/stable/user/duvivier/proxy/8787/status</a>\n",
       "                    </td>\n",
       "                    <td style=\"text-align: left;\">\n",
       "                        <strong>Total threads:</strong> 0\n",
       "                    </td>\n",
       "                </tr>\n",
       "                <tr>\n",
       "                    <td style=\"text-align: left;\">\n",
       "                        <strong>Started:</strong> Just now\n",
       "                    </td>\n",
       "                    <td style=\"text-align: left;\">\n",
       "                        <strong>Total memory:</strong> 0 B\n",
       "                    </td>\n",
       "                </tr>\n",
       "            </table>\n",
       "        </div>\n",
       "    </div>\n",
       "\n",
       "    <details style=\"margin-left: 48px;\">\n",
       "        <summary style=\"margin-bottom: 20px;\">\n",
       "            <h3 style=\"display: inline;\">Workers</h3>\n",
       "        </summary>\n",
       "\n",
       "        \n",
       "\n",
       "    </details>\n",
       "</div>\n",
       "\n",
       "        </details>\n",
       "    </div>\n",
       "</div>\n",
       "            </details>\n",
       "        \n",
       "\n",
       "    </div>\n",
       "</div>"
      ],
      "text/plain": [
       "<Client: 'tcp://10.12.206.20:41184' processes=0 threads=0, memory=0 B>"
      ]
     },
     "execution_count": 2,
     "metadata": {},
     "output_type": "execute_result"
    }
   ],
   "source": [
    "# Setup your PBSCluster\n",
    "cluster = PBSCluster(\n",
    "    cores=2, # The number of cores you want\n",
    "    memory='50 GB', # Amount of memory\n",
    "    processes=1, # How many processes\n",
    "    queue='casper', # The type of queue to utilize (/glade/u/apps/dav/opt/usr/bin/execcasper)\n",
    "    local_directory='$TMPDIR', # Use your local directory\n",
    "    resource_spec='select=1:ncpus=2:mem=50GB', # Specify resources\n",
    "    project='NCGD0011', # Input your project ID here\n",
    "    walltime='04:00:00', # Amount of wall time\n",
    "    interface='ib0', # Interface to use\n",
    ")\n",
    "# Scale up\n",
    "cluster.scale(12)\n",
    "\n",
    "# Change your url to the dask dashboard so you can see it\n",
    "dask.config.set({'distributed.dashboard.link':'https://jupyterhub.hpc.ucar.edu/stable/user/{USER}/proxy/{port}/status'})\n",
    "\n",
    "# Setup your client\n",
    "client = Client(cluster)\n",
    "client"
   ]
  },
  {
   "cell_type": "markdown",
   "id": "0bde129e-e4d7-4eea-a204-0d9bb8fc7675",
   "metadata": {
    "tags": []
   },
   "source": [
    "### Historical"
   ]
  },
  {
   "cell_type": "markdown",
   "id": "2f72a48a-8c62-49ab-acc0-a4e6dc50a286",
   "metadata": {},
   "source": [
    "#### Get data for septembers only"
   ]
  },
  {
   "cell_type": "code",
   "execution_count": 3,
   "id": "ee4135c8-8226-478c-a7f8-0ddfd9abdab3",
   "metadata": {},
   "outputs": [],
   "source": [
    "def preprocess(ds):\n",
    "    ds=ds.isel(z_t=slice(0,40), z_w_bot=slice(0,40)).sel(time=ds.time.dt.month.isin([9]))\n",
    "    return ds"
   ]
  },
  {
   "cell_type": "code",
   "execution_count": 4,
   "id": "bf2bac6e-d8a1-4e4c-8ce7-6fbb5a801e57",
   "metadata": {},
   "outputs": [
    {
     "name": "stdout",
     "output_type": "stream",
     "text": [
      "CPU times: user 29.4 s, sys: 2.04 s, total: 31.4 s\n",
      "Wall time: 34.2 s\n"
     ]
    },
    {
     "data": {
      "text/plain": [
       "array(['historical', 'ssp370'], dtype=object)"
      ]
     },
     "execution_count": 4,
     "metadata": {},
     "output_type": "execute_result"
    }
   ],
   "source": [
    "%%time\n",
    "catalog = intake.open_esm_datastore(\n",
    "    '/glade/collections/cmip/catalog/intake-esm-datastore/catalogs/glade-cesm2-le.json')\n",
    "\n",
    "catalog.df.experiment.unique()"
   ]
  },
  {
   "cell_type": "code",
   "execution_count": 5,
   "id": "260ee0d3-fd7e-4972-bebd-5fee2031e07d",
   "metadata": {},
   "outputs": [
    {
     "name": "stdout",
     "output_type": "stream",
     "text": [
      "CPU times: user 1.23 s, sys: 3.18 ms, total: 1.23 s\n",
      "Wall time: 1.29 s\n"
     ]
    }
   ],
   "source": [
    "%%time\n",
    "var = ['HMXL','DIA_IMPVF_TEMP']\n",
    "# get the historical\n",
    "subset_hist = catalog.search(component='ocn',\n",
    "                        variable=var,\n",
    "                        experiment='historical',\n",
    "                        forcing_variant='cmip6')"
   ]
  },
  {
   "cell_type": "code",
   "execution_count": 6,
   "id": "af887b0b-359b-414b-b78c-9f0f45071cc7",
   "metadata": {},
   "outputs": [
    {
     "name": "stdout",
     "output_type": "stream",
     "text": [
      "\n",
      "--> The keys in the returned dictionary of datasets are constructed as follows:\n",
      "\t'component.experiment.stream.forcing_variant.variable'\n"
     ]
    },
    {
     "data": {
      "text/html": [
       "\n",
       "<style>\n",
       "    /* Turns off some styling */\n",
       "    progress {\n",
       "        /* gets rid of default border in Firefox and Opera. */\n",
       "        border: none;\n",
       "        /* Needs to be in here for Safari polyfill so background images work as expected. */\n",
       "        background-size: auto;\n",
       "    }\n",
       "    .progress-bar-interrupted, .progress-bar-interrupted::-webkit-progress-bar {\n",
       "        background: #F44336;\n",
       "    }\n",
       "</style>\n"
      ],
      "text/plain": [
       "<IPython.core.display.HTML object>"
      ]
     },
     "metadata": {},
     "output_type": "display_data"
    },
    {
     "data": {
      "text/html": [
       "\n",
       "    <div>\n",
       "      <progress value='2' class='' max='2' style='width:300px; height:20px; vertical-align: middle;'></progress>\n",
       "      100.00% [2/2 00:44<00:00]\n",
       "    </div>\n",
       "    "
      ],
      "text/plain": [
       "<IPython.core.display.HTML object>"
      ]
     },
     "metadata": {},
     "output_type": "display_data"
    },
    {
     "name": "stdout",
     "output_type": "stream",
     "text": [
      "CPU times: user 47 s, sys: 1.47 s, total: 48.4 s\n",
      "Wall time: 1min 37s\n"
     ]
    }
   ],
   "source": [
    "%%time\n",
    "with dask.config.set(**{'array.slicing.split_large_chunks': True}):\n",
    "    dsets_mix = subset_hist.to_dataset_dict(preprocess=preprocess)"
   ]
  },
  {
   "cell_type": "code",
   "execution_count": 7,
   "id": "e5a9e38a-0204-4853-9ade-cff8fd6970a1",
   "metadata": {},
   "outputs": [
    {
     "name": "stdout",
     "output_type": "stream",
     "text": [
      "CPU times: user 1.35 s, sys: 90.3 ms, total: 1.44 s\n",
      "Wall time: 4.95 s\n"
     ]
    }
   ],
   "source": [
    "%%time\n",
    "# here we join the two variables into one dataset \n",
    "my_key_mix = 'ocn.historical.pop.h.cmip6.' + var[0]\n",
    "ds_tmp_mix = dsets_mix[my_key_mix]\n",
    "\n",
    "my_key_mix = 'ocn.historical.pop.h.cmip6.' + var[1]\n",
    "ds_hist_mix = dsets_mix[my_key_mix]\n",
    "\n",
    "ds_hist_mix = xr.merge([ds_hist_mix,ds_tmp_mix])\n",
    "\n",
    "#fix time dimension so it's a mean of the timebounds\n",
    "ds_hist_mix['time']= ds_hist_mix.time_bound.compute().mean(dim=\"d2\")"
   ]
  },
  {
   "cell_type": "code",
   "execution_count": 8,
   "id": "faf6324d-f24c-45f8-aaf6-c03ac3b2d1dc",
   "metadata": {},
   "outputs": [],
   "source": [
    "keep_vars = ['z_t', 'z_w_bot','z_t_150m','time_bound','dz','TLAT','TLONG','time', 'REGION_MASK', 'hflux_factor', 'TAREA'] + var\n",
    "ds_hist_mix = ds_hist_mix.drop([v for v in ds_hist_mix.variables if v not in keep_vars])"
   ]
  },
  {
   "cell_type": "markdown",
   "id": "725aa2d4-3aaa-432e-8d40-53f74b74f2f1",
   "metadata": {
    "tags": []
   },
   "source": [
    "#### Get only Ross Sea "
   ]
  },
  {
   "cell_type": "code",
   "execution_count": 9,
   "id": "53615484-d613-4d3d-845f-f846bd35dd4e",
   "metadata": {},
   "outputs": [
    {
     "name": "stdout",
     "output_type": "stream",
     "text": [
      "CPU times: user 1min 27s, sys: 5.13 s, total: 1min 32s\n",
      "Wall time: 20min 23s\n"
     ]
    }
   ],
   "source": [
    "%%time\n",
    "# mask outside Ross Sector present day \n",
    "ds_rs_hist_mix_sep = ds_hist_mix.where((ds_hist_mix.TLONG > 160) & (ds_hist_mix.TLONG.values < 210) & (ds_hist_mix.TLAT < -72),\n",
    "                     drop=True).load()"
   ]
  },
  {
   "cell_type": "code",
   "execution_count": 10,
   "id": "b36ecb1d-577f-4948-a51a-98e0d6bc4c9f",
   "metadata": {},
   "outputs": [
    {
     "name": "stdout",
     "output_type": "stream",
     "text": [
      "ds: Frozen({'z_t': 40, 'nlat': 14, 'nlon': 44, 'time': 165, 'd2': 2, 'member_id': 50, 'z_w_bot': 40, 'z_t_150m': 15}) hmxl: ('member_id', 'time', 'nlat', 'nlon') mix: ('member_id', 'time', 'z_w_bot', 'nlat', 'nlon')\n"
     ]
    }
   ],
   "source": [
    "print('ds:', ds_rs_hist_mix_sep.dims, 'hmxl:' , ds_rs_hist_mix_sep.HMXL.dims, 'mix:' , ds_rs_hist_mix_sep.DIA_IMPVF_TEMP.dims)"
   ]
  },
  {
   "cell_type": "markdown",
   "id": "bdf05d2a-8a3d-4ad6-a246-db1365f32153",
   "metadata": {},
   "source": [
    "### Get the heat flux through the mixed layer for the entire september timeseries"
   ]
  },
  {
   "cell_type": "code",
   "execution_count": 11,
   "id": "07db024d-0cec-4491-810d-79d49470f39e",
   "metadata": {},
   "outputs": [],
   "source": [
    "jq_through_hmxl_hist_sep = ds_rs_hist_mix_sep.DIA_IMPVF_TEMP.sel(z_w_bot=ds_rs_hist_mix_sep.HMXL, method='nearest')"
   ]
  },
  {
   "cell_type": "markdown",
   "id": "ba825cda-edc5-4d1e-92cc-cbcae8cf90c6",
   "metadata": {},
   "source": [
    "#### This worked, now checking what it looks like"
   ]
  },
  {
   "cell_type": "code",
   "execution_count": 12,
   "id": "347604a3-fb52-410c-afe6-3e13dc7ddf98",
   "metadata": {},
   "outputs": [
    {
     "ename": "NameError",
     "evalue": "name 'ds_ssp' is not defined",
     "output_type": "error",
     "traceback": [
      "\u001b[0;31m---------------------------------------------------------------------------\u001b[0m",
      "\u001b[0;31mNameError\u001b[0m                                 Traceback (most recent call last)",
      "\u001b[0;32m/glade/scratch/duvivier/ipykernel_44907/1846987921.py\u001b[0m in \u001b[0;36m<module>\u001b[0;34m\u001b[0m\n\u001b[0;32m----> 1\u001b[0;31m \u001b[0;34m(\u001b[0m\u001b[0mjq_through_hmxl_hist_sep\u001b[0m\u001b[0;34m.\u001b[0m\u001b[0msel\u001b[0m\u001b[0;34m(\u001b[0m\u001b[0mtime\u001b[0m\u001b[0;34m=\u001b[0m\u001b[0mslice\u001b[0m\u001b[0;34m(\u001b[0m\u001b[0;34m'1980'\u001b[0m\u001b[0;34m,\u001b[0m \u001b[0;34m'1989'\u001b[0m\u001b[0;34m)\u001b[0m\u001b[0;34m)\u001b[0m\u001b[0;34m.\u001b[0m\u001b[0mmean\u001b[0m\u001b[0;34m(\u001b[0m\u001b[0mdim\u001b[0m\u001b[0;34m=\u001b[0m\u001b[0;34m[\u001b[0m\u001b[0;34m'member_id'\u001b[0m\u001b[0;34m,\u001b[0m\u001b[0;34m'time'\u001b[0m\u001b[0;34m]\u001b[0m\u001b[0;34m)\u001b[0m\u001b[0;34m/\u001b[0m\u001b[0mds_ssp\u001b[0m\u001b[0;34m.\u001b[0m\u001b[0mhflux_factor\u001b[0m\u001b[0;34m)\u001b[0m\u001b[0;34m.\u001b[0m\u001b[0mplot\u001b[0m\u001b[0;34m(\u001b[0m\u001b[0mrobust\u001b[0m\u001b[0;34m=\u001b[0m\u001b[0;32mTrue\u001b[0m\u001b[0;34m)\u001b[0m\u001b[0;34m\u001b[0m\u001b[0;34m\u001b[0m\u001b[0m\n\u001b[0m",
      "\u001b[0;31mNameError\u001b[0m: name 'ds_ssp' is not defined"
     ]
    }
   ],
   "source": [
    "(jq_through_hmxl_hist_sep.sel(time=slice('1980', '1989')).mean(dim=['member_id','time'])/ds_ssp.hflux_factor).plot(robust=True)"
   ]
  },
  {
   "cell_type": "code",
   "execution_count": 13,
   "id": "11392a7d-dbea-4692-b68c-c06a5ddf197d",
   "metadata": {},
   "outputs": [
    {
     "ename": "NameError",
     "evalue": "name 'ds_ssp' is not defined",
     "output_type": "error",
     "traceback": [
      "\u001b[0;31m---------------------------------------------------------------------------\u001b[0m",
      "\u001b[0;31mNameError\u001b[0m                                 Traceback (most recent call last)",
      "\u001b[0;32m/glade/scratch/duvivier/ipykernel_44907/2358013376.py\u001b[0m in \u001b[0;36m<module>\u001b[0;34m\u001b[0m\n\u001b[1;32m      2\u001b[0m \u001b[0;34m\u001b[0m\u001b[0m\n\u001b[1;32m      3\u001b[0m cdat = ax[0].contourf(jq_through_hmxl_hist_sep.TLONG, jq_through_hmxl_hist_sep.TLAT, \n\u001b[0;32m----> 4\u001b[0;31m                       \u001b[0;34m(\u001b[0m\u001b[0mjq_through_hmxl_hist_sep\u001b[0m\u001b[0;34m.\u001b[0m\u001b[0msel\u001b[0m\u001b[0;34m(\u001b[0m\u001b[0mtime\u001b[0m\u001b[0;34m=\u001b[0m\u001b[0mslice\u001b[0m\u001b[0;34m(\u001b[0m\u001b[0;34m'1980'\u001b[0m\u001b[0;34m,\u001b[0m \u001b[0;34m'1989'\u001b[0m\u001b[0;34m)\u001b[0m\u001b[0;34m)\u001b[0m\u001b[0;34m.\u001b[0m\u001b[0mmean\u001b[0m\u001b[0;34m(\u001b[0m\u001b[0mdim\u001b[0m\u001b[0;34m=\u001b[0m\u001b[0;34m[\u001b[0m\u001b[0;34m'member_id'\u001b[0m\u001b[0;34m,\u001b[0m\u001b[0;34m'time'\u001b[0m\u001b[0;34m]\u001b[0m\u001b[0;34m)\u001b[0m\u001b[0;34m/\u001b[0m\u001b[0mds_ssp\u001b[0m\u001b[0;34m.\u001b[0m\u001b[0mhflux_factor\u001b[0m\u001b[0;34m)\u001b[0m\u001b[0;34m,\u001b[0m\u001b[0;34m\u001b[0m\u001b[0;34m\u001b[0m\u001b[0m\n\u001b[0m\u001b[1;32m      5\u001b[0m                      levels=np.arange(-200,20,20), cmap='Blues', extend='both')\n\u001b[1;32m      6\u001b[0m \u001b[0;31m# ax[1].contourf(ds_2070.TLONG, ds_2070.TLAT, (ds_2070.HFL_HMXL_2070s),\u001b[0m\u001b[0;34m\u001b[0m\u001b[0;34m\u001b[0m\u001b[0;34m\u001b[0m\u001b[0m\n",
      "\u001b[0;31mNameError\u001b[0m: name 'ds_ssp' is not defined"
     ]
    },
    {
     "data": {
      "image/png": "[encoded data removed]",
      "text/plain": [
       "<Figure size 576x216 with 2 Axes>"
      ]
     },
     "metadata": {
      "needs_background": "light"
     },
     "output_type": "display_data"
    }
   ],
   "source": [
    "fig, ax = plt.subplots(1, 2, figsize=(8, 3), sharex=True, sharey=True)\n",
    "\n",
    "cdat = ax[0].contourf(jq_through_hmxl_hist_sep.TLONG, jq_through_hmxl_hist_sep.TLAT, \n",
    "                      (jq_through_hmxl_hist_sep.sel(time=slice('1980', '1989')).mean(dim=['member_id','time'])/ds_ssp.hflux_factor),\n",
    "                     levels=np.arange(-200,20,20), cmap='Blues', extend='both')\n",
    "# ax[1].contourf(ds_2070.TLONG, ds_2070.TLAT, (ds_2070.HFL_HMXL_2070s),\n",
    "#                      levels=np.arange(-200,20,20), cmap='Blues')\n",
    "\n",
    "ax[0].set_title('1980s')\n",
    "ax[1].set_title('2070s')\n",
    "plt.colorbar(cdat, ax=ax[:2])\n",
    "\n",
    "# cdat = ax[0].contour(ds_1980.TLONG, ds_1980.TLAT, ds_1980.HMXL_1980s,\n",
    "#                      levels=np.arange(0,220,20), colors='black')\n",
    "# ax[1].contour(ds_2070.TLONG, ds_2070.TLAT, (ds_2070.HMXL_2070s),\n",
    "#                      levels=np.arange(0,220,20), colors='black')\n"
   ]
  },
  {
   "cell_type": "markdown",
   "id": "f7c46197-c21a-4ae2-adeb-d21f78adc378",
   "metadata": {},
   "source": [
    "#### Saving the data for Alice"
   ]
  },
  {
   "cell_type": "code",
   "execution_count": null,
   "id": "10abfd63-c099-4b75-8a76-c9e46de82d85",
   "metadata": {
    "tags": []
   },
   "outputs": [],
   "source": [
    "# make sure you save the heat flux in W/m2 and save the HMXL along with it in m \n",
    "ds_hist_derived = (jq_through_hmxl_hist_sep/ds_ssp.hflux_factor).to_dataset(name='HFL_HMXL_hist')#.nbytes/1e9\n",
    "ds_hist_derived['HMXL_hist'] = ds_rs_hist_mix_sep.HMXL/100\n",
    "\n",
    "ds_hist_derived['HFL_HMXL_hist'].attrs = {\"units\": 'W/m2'}\n",
    "ds_hist_derived['HMXL_hist'].attrs = {\"units\": 'm'}"
   ]
  },
  {
   "cell_type": "code",
   "execution_count": null,
   "id": "91abefcd-44f6-4c65-898c-a65eee34b9e3",
   "metadata": {},
   "outputs": [],
   "source": [
    "ds_hist_derived.to_netcdf('hist_HMXL_HFLX_ensmembers_timeseries_RossSea.nc')"
   ]
  },
  {
   "cell_type": "markdown",
   "id": "4efa473c-77c3-4b91-8810-83f1d640f82f",
   "metadata": {},
   "source": [
    "### Future"
   ]
  },
  {
   "cell_type": "code",
   "execution_count": 14,
   "id": "cedf25a6-47e0-4d6a-9227-78c3a939cdb1",
   "metadata": {},
   "outputs": [
    {
     "name": "stdout",
     "output_type": "stream",
     "text": [
      "\n",
      "--> The keys in the returned dictionary of datasets are constructed as follows:\n",
      "\t'component.experiment.stream.forcing_variant.variable'\n"
     ]
    },
    {
     "data": {
      "text/html": [
       "\n",
       "<style>\n",
       "    /* Turns off some styling */\n",
       "    progress {\n",
       "        /* gets rid of default border in Firefox and Opera. */\n",
       "        border: none;\n",
       "        /* Needs to be in here for Safari polyfill so background images work as expected. */\n",
       "        background-size: auto;\n",
       "    }\n",
       "    .progress-bar-interrupted, .progress-bar-interrupted::-webkit-progress-bar {\n",
       "        background: #F44336;\n",
       "    }\n",
       "</style>\n"
      ],
      "text/plain": [
       "<IPython.core.display.HTML object>"
      ]
     },
     "metadata": {},
     "output_type": "display_data"
    },
    {
     "data": {
      "text/html": [
       "\n",
       "    <div>\n",
       "      <progress value='2' class='' max='2' style='width:300px; height:20px; vertical-align: middle;'></progress>\n",
       "      100.00% [2/2 00:12<00:00]\n",
       "    </div>\n",
       "    "
      ],
      "text/plain": [
       "<IPython.core.display.HTML object>"
      ]
     },
     "metadata": {},
     "output_type": "display_data"
    }
   ],
   "source": [
    "subset_fut = catalog.search(component='ocn',\n",
    "                        variable=var,\n",
    "                        experiment='ssp370',\n",
    "                        forcing_variant='cmip6',\n",
    "                       )\n",
    "\n",
    "with dask.config.set(**{'array.slicing.split_large_chunks': True}):\n",
    "    dsets = subset_fut.to_dataset_dict(preprocess=preprocess)"
   ]
  },
  {
   "cell_type": "code",
   "execution_count": 15,
   "id": "e24eeaf1-6fa6-4852-bee3-fd97ab24b67b",
   "metadata": {},
   "outputs": [
    {
     "name": "stdout",
     "output_type": "stream",
     "text": [
      "CPU times: user 1.02 s, sys: 69.5 ms, total: 1.09 s\n",
      "Wall time: 4.07 s\n"
     ]
    }
   ],
   "source": [
    "%%time\n",
    "# merge the two datasets again \n",
    "my_key = 'ocn.ssp370.pop.h.cmip6.' + var[0]\n",
    "ds_tmp = dsets[my_key]\n",
    "\n",
    "my_key = 'ocn.ssp370.pop.h.cmip6.' + var[1]\n",
    "ds_ssp = dsets[my_key]\n",
    "\n",
    "ds_ssp = xr.merge([ds_ssp,ds_tmp])\n",
    "\n",
    "#fix time dimension so it's a mean of the timebounds\n",
    "ds_ssp['time']= ds_ssp.time_bound.compute().mean(dim=\"d2\")"
   ]
  },
  {
   "cell_type": "code",
   "execution_count": 16,
   "id": "f5fa2dd1-d8cc-41c1-bad0-f8c43c092a67",
   "metadata": {},
   "outputs": [],
   "source": [
    "keep_vars = ['z_t', 'z_w_bot','z_t_150m','time_bound','dz','TLAT','TLONG','time', 'REGION_MASK', 'hflux_factor'] + var\n",
    "ds_ssp = ds_ssp.drop([v for v in ds_ssp.variables if v not in keep_vars])"
   ]
  },
  {
   "cell_type": "markdown",
   "id": "78f85e13-1751-4a3c-8d4c-513c886af5cf",
   "metadata": {
    "tags": []
   },
   "source": [
    "#### Get only Ross Sea "
   ]
  },
  {
   "cell_type": "code",
   "execution_count": 17,
   "id": "71992ffa-37c3-419a-a91f-55f0a0161c5c",
   "metadata": {},
   "outputs": [
    {
     "name": "stdout",
     "output_type": "stream",
     "text": [
      "CPU times: user 31.6 s, sys: 2.33 s, total: 33.9 s\n",
      "Wall time: 10min 10s\n"
     ]
    }
   ],
   "source": [
    "%%time\n",
    "# mask outside Ross Sector present day \n",
    "ds_rs_ssp_mix_sep = ds_ssp.where((ds_ssp.TLONG > 160) & (ds_ssp.TLONG.values < 210) & (ds_ssp.TLAT < -72),\n",
    "                     drop=True).load()"
   ]
  },
  {
   "cell_type": "code",
   "execution_count": 18,
   "id": "0ba0c415-54b8-452a-a2c2-58a20075354e",
   "metadata": {},
   "outputs": [
    {
     "name": "stdout",
     "output_type": "stream",
     "text": [
      "ds: Frozen({'z_t': 40, 'nlat': 14, 'nlon': 44, 'time': 86, 'd2': 2, 'member_id': 50, 'z_w_bot': 40, 'z_t_150m': 15}) hmxl: ('member_id', 'time', 'nlat', 'nlon') mix: ('member_id', 'time', 'z_w_bot', 'nlat', 'nlon')\n"
     ]
    }
   ],
   "source": [
    "print('ds:', ds_rs_ssp_mix_sep.dims, 'hmxl:' , ds_rs_ssp_mix_sep.HMXL.dims, 'mix:' , ds_rs_ssp_mix_sep.DIA_IMPVF_TEMP.dims)"
   ]
  },
  {
   "cell_type": "markdown",
   "id": "e5a804a4-7149-4be2-b817-6d08a6746f3e",
   "metadata": {},
   "source": [
    "### Get the heat flux through the mixed layer for the entire september timeseries"
   ]
  },
  {
   "cell_type": "code",
   "execution_count": null,
   "id": "debd97af-c768-4097-865b-5a0096847691",
   "metadata": {},
   "outputs": [],
   "source": [
    "jq_through_hmxl_ssp_sep = ds_rs_ssp_mix_sep.DIA_IMPVF_TEMP.sel(z_w_bot=ds_rs_ssp_mix_sep.HMXL, method='nearest')"
   ]
  },
  {
   "cell_type": "code",
   "execution_count": null,
   "id": "bfd0f977-7091-461d-9b3c-751eaac9174d",
   "metadata": {},
   "outputs": [],
   "source": [
    "(jq_through_hmxl_ssp_sep.sel(time=slice('2070', '2079')).mean(dim=['member_id','time'])).plot(robust=True)"
   ]
  },
  {
   "cell_type": "markdown",
   "id": "b994a4be-9273-4fc3-a356-1551c07734e8",
   "metadata": {},
   "source": [
    "#### Calculated, make sure it looks ok "
   ]
  },
  {
   "cell_type": "code",
   "execution_count": null,
   "id": "cb04006f-472d-41f3-abb1-f737b6a4f284",
   "metadata": {},
   "outputs": [],
   "source": [
    "fig, ax = plt.subplots(1, 2, figsize=(8, 3), sharex=True, sharey=True)\n",
    "\n",
    "cdat = ax[0].contourf(jq_through_hmxl_hist_sep.TLONG, jq_through_hmxl_hist_sep.TLAT, \n",
    "                      (jq_through_hmxl_hist_sep.sel(time=slice('1980', '1989')).mean(dim=['member_id','time'])/ds_ssp.hflux_factor),\n",
    "                     levels=np.arange(-200,20,20), cmap='Blues', extend='both')\n",
    "ax[1].contourf(jq_through_hmxl_ssp_sep.TLONG, jq_through_hmxl_ssp_sep.TLAT, \n",
    "               (jq_through_hmxl_ssp_sep.sel(time=slice('2070', '2079')).mean(dim=['member_id','time'])/ds_ssp.hflux_factor),\n",
    "                     levels=np.arange(-200,20,20), cmap='Blues')\n",
    "\n",
    "ax[0].set_title('1980s September only')\n",
    "ax[1].set_title('2070s September only')\n",
    "plt.colorbar(cdat, ax=ax[:2])\n",
    "\n",
    "# cdat = ax[0].contour(ds_1980.TLONG, ds_1980.TLAT, ds_1980.HMXL_1980s,\n",
    "#                      levels=np.arange(0,220,20), colors='black')\n",
    "# ax[1].contour(ds_2070.TLONG, ds_2070.TLAT, (ds_2070.HMXL_2070s),\n",
    "#                      levels=np.arange(0,220,20), colors='black')\n"
   ]
  },
  {
   "cell_type": "markdown",
   "id": "84c1d901-4c92-47c1-aa0d-ae265977a999",
   "metadata": {},
   "source": [
    "#### Compare to what you had done before -- that was probably all year"
   ]
  },
  {
   "cell_type": "code",
   "execution_count": null,
   "id": "19b4f33f-2ff6-4002-a25a-5127136e2a43",
   "metadata": {},
   "outputs": [],
   "source": [
    "ds_1980 = xr.open_dataset('1980s_HMXL_HFLX.nc')\n",
    "ds_2070 = xr.open_dataset('2070s_HMXL_HFLX.nc')"
   ]
  },
  {
   "cell_type": "code",
   "execution_count": null,
   "id": "42dd2458-8673-4699-a672-1edd19fdd801",
   "metadata": {},
   "outputs": [],
   "source": [
    "fig, ax = plt.subplots(1, 2, figsize=(8, 3), sharex=True, sharey=True)\n",
    "\n",
    "cdat = ax[0].contourf(ds_1980.TLONG, ds_1980.TLAT, ds_1980.HFL_HMXL_1980s,\n",
    "                     levels=np.arange(-200,20,20), cmap='Blues', extend='both')\n",
    "ax[1].contourf(ds_2070.TLONG, ds_2070.TLAT, (ds_2070.HFL_HMXL_2070s),\n",
    "                     levels=np.arange(-200,20,20), cmap='Blues')\n",
    "\n",
    "ax[0].set_title('1980s all year')\n",
    "ax[1].set_title('2070s all year')\n",
    "plt.colorbar(cdat, ax=ax[:2])\n",
    "\n",
    "cdat = ax[0].contour(ds_1980.TLONG, ds_1980.TLAT, ds_1980.HMXL_1980s,\n",
    "                     levels=np.arange(0,220,20), colors='black')\n",
    "ax[1].contour(ds_2070.TLONG, ds_2070.TLAT, (ds_2070.HMXL_2070s),\n",
    "                     levels=np.arange(0,220,20), colors='black')\n"
   ]
  },
  {
   "cell_type": "markdown",
   "id": "e319d5eb-532d-4815-aa3c-f691b72c8a7c",
   "metadata": {},
   "source": [
    "#### Save the data"
   ]
  },
  {
   "cell_type": "code",
   "execution_count": null,
   "id": "38a44d6c-b43c-4beb-b8d5-ecc1f9091591",
   "metadata": {
    "tags": []
   },
   "outputs": [],
   "source": [
    "# make sure you save the heat flux in W/m2 and save the HMXL along with it in m \n",
    "ds_ssp_derived = (jq_through_hmxl_ssp_sep/ds_ssp.hflux_factor).to_dataset(name='HFL_HMXL_ssp')#.nbytes/1e9\n",
    "ds_ssp_derived['HMXL_ssp'] = ds_rs_ssp_mix_sep.HMXL/100\n",
    "\n",
    "ds_ssp_derived['HFL_HMXL_ssp'].attrs = {\"units\": 'W/m2'}\n",
    "ds_ssp_derived['HMXL_ssp'].attrs = {\"units\": 'm'}"
   ]
  },
  {
   "cell_type": "code",
   "execution_count": null,
   "id": "5f1cabd4-8626-4eb6-85d1-30aa8fe63676",
   "metadata": {},
   "outputs": [],
   "source": [
    "ds_ssp_derived.to_netcdf('ssp_HMXL_HFLX_ensmembers_timeseries_RossSea.nc')"
   ]
  },
  {
   "cell_type": "markdown",
   "id": "3c5b7d6c-6068-461e-ab92-fa77703d8f45",
   "metadata": {},
   "source": [
    "### Save new september only hflx through mxl files"
   ]
  },
  {
   "cell_type": "code",
   "execution_count": null,
   "id": "58ba69c7-ec49-41d9-bbbf-13cb392fdf26",
   "metadata": {},
   "outputs": [],
   "source": [
    "ds_sept_1980s_HFLXthroughHMXL = (jq_through_hmxl_hist_sep.sel(time=slice('1980', '1989')).mean(dim=['member_id','time'])\n",
    "                                 /\n",
    "                                 ds_ssp.hflux_factor).to_dataset(name='HFL_HMXL_1980s')\n",
    "ds_sept_1980s_HFLXthroughHMXL['HFL_HMXL_1980s'].attrs = {\"units\": 'W/m2'}\n",
    "\n",
    "ds_sept_1980s_HFLXthroughHMXL['HMXL_1980s'] = ds_rs_hist_mix_sep.HMXL.sel(time=slice('1980', '1989')).mean(dim=['member_id','time'])/100\n",
    "ds_sept_1980s_HFLXthroughHMXL['HMXL_1980s'].attrs = {\"units\": 'm'}\n",
    "\n",
    "ds_sept_1980s_HFLXthroughHMXL.to_netcdf('mean_HFLX_HMXL_1980s_septembers.nc')"
   ]
  },
  {
   "cell_type": "code",
   "execution_count": null,
   "id": "4b198fc9-edde-4d76-b39a-10e5079576b4",
   "metadata": {},
   "outputs": [],
   "source": [
    "ds_sept_2070s_HFLXthroughHMXL = (jq_through_hmxl_ssp_sep.sel(time=slice('2070', '2079')).mean(dim=['member_id','time'])\n",
    "                                 /\n",
    "                                 ds_ssp.hflux_factor).to_dataset(name='HFL_HMXL_2070s')\n",
    "ds_sept_2070s_HFLXthroughHMXL['HFL_HMXL_2070s'].attrs = {\"units\": 'W/m2'}\n",
    "\n",
    "ds_sept_2070s_HFLXthroughHMXL['HMXL_2070s'] = ds_rs_ssp_mix_sep.HMXL.sel(time=slice('2070', '2079')).mean(dim=['member_id','time'])/100\n",
    "ds_sept_2070s_HFLXthroughHMXL['HMXL_2070s'].attrs = {\"units\": 'm'}\n",
    "\n",
    "ds_sept_2070s_HFLXthroughHMXL.to_netcdf('mean_HFLX_HMXL_2070s_septembers.nc')"
   ]
  },
  {
   "cell_type": "code",
   "execution_count": null,
   "id": "79107397-350b-4b6f-98ee-98c1bbaa68e7",
   "metadata": {},
   "outputs": [],
   "source": []
  },
  {
   "cell_type": "markdown",
   "id": "2e1299ce-6671-4f15-91da-02666e78cba5",
   "metadata": {},
   "source": [
    "### Make T and S diagrams and T and S timeseries and potential density "
   ]
  },
  {
   "cell_type": "code",
   "execution_count": null,
   "id": "1aac12ae-6970-45be-9845-c0c673a13994",
   "metadata": {},
   "outputs": [],
   "source": [
    "path = '/glade/campaign/cgd/cesm/CESM2-LE/timeseries/ocn/proc/tseries/month_1/'\n",
    "tarea_file = xr.open_dataset(path + 'SALT/b.e21.BSSP370smbb.f09_g17.LE2-1301.018.pop.h.SALT.204501-205412.nc')"
   ]
  },
  {
   "cell_type": "code",
   "execution_count": null,
   "id": "5e727bcf-2c02-4204-b815-87f02fbf4972",
   "metadata": {},
   "outputs": [],
   "source": [
    "tarea_rs = tarea_file.TAREA.where((tarea_file.TLONG > 160) & (tarea_file.TLONG.values < 210) & (tarea_file.TLAT < -72),\n",
    "                     drop=True).load()"
   ]
  },
  {
   "cell_type": "code",
   "execution_count": null,
   "id": "ad89394b-5a36-446b-9e52-26222a055ec2",
   "metadata": {},
   "outputs": [],
   "source": [
    "ds_t = xr.open_zarr('T_antarctica_ensmean_September.zarr/')\n",
    "ds_s = xr.open_zarr('S_antarctica_ensmean_September.zarr/')"
   ]
  },
  {
   "cell_type": "code",
   "execution_count": null,
   "id": "17ea5c43-e93b-4663-a001-d7063ba4d3a6",
   "metadata": {},
   "outputs": [],
   "source": [
    "%%time\n",
    "# mask outside Ross Sector present day \n",
    "ds_t_rs =  ds_t.where((ds_t.TLONG > 160) & (ds_t.TLONG.values < 210) & (ds_t.TLAT < -72),\n",
    "                     drop=True).load()"
   ]
  },
  {
   "cell_type": "code",
   "execution_count": null,
   "id": "58d6afb6-9b27-43e2-b6d7-c0f4e3b28dc0",
   "metadata": {},
   "outputs": [],
   "source": [
    "%%time\n",
    "# mask outside Ross Sector present day \n",
    "ds_s_rs =  ds_s.where((ds_s.TLONG > 160) & (ds_s.TLONG.values < 210) & (ds_s.TLAT < -72),\n",
    "                     drop=True).load()"
   ]
  },
  {
   "cell_type": "code",
   "execution_count": null,
   "id": "8d6526aa-b209-47ca-a7fa-120b10039cec",
   "metadata": {},
   "outputs": [],
   "source": [
    "print('hmxl', ds_rs_hist_mix_sep.HMXL.shape)"
   ]
  },
  {
   "cell_type": "code",
   "execution_count": null,
   "id": "1b7b62be-5069-4ff2-afe8-efa609963a2a",
   "metadata": {},
   "outputs": [],
   "source": []
  },
  {
   "cell_type": "code",
   "execution_count": null,
   "id": "0ed14044-2ed3-40d5-9b01-eb5c8e463fff",
   "metadata": {},
   "outputs": [],
   "source": [
    "print('salt', ds_s_rs.TEMP.shape, 'temp', ds_t_rs.TEMP.shape)"
   ]
  },
  {
   "cell_type": "markdown",
   "id": "5f01c14e-d943-41e2-8616-26eef2cc38cc",
   "metadata": {},
   "source": [
    "### Upper 600m"
   ]
  },
  {
   "cell_type": "code",
   "execution_count": null,
   "id": "7a7cac42-8155-4e62-b5de-4a9f09045724",
   "metadata": {},
   "outputs": [],
   "source": [
    "ds_s_rs.TEMP.TLAT.isel(nlon=10).plot()\n",
    "ds_rs_hist_mix_sep.HMXL.TLAT.isel(nlon=10, nlat=slice(2,14)).plot()"
   ]
  },
  {
   "cell_type": "code",
   "execution_count": null,
   "id": "ab275963-f9b2-4226-a3f1-6893d24ef65d",
   "metadata": {},
   "outputs": [],
   "source": [
    "plt.scatter(ds_s_rs.TEMP.sel(time=slice('2070','2079'), z_t=slice(0,600e2)), \n",
    "            ds_t_rs.TEMP.sel(time=slice('2070','2079'), z_t=slice(0,600e2)), \n",
    "            s=1, marker='o', label='2070s', c='orange')\n",
    "\n",
    "plt.scatter(ds_s_rs.TEMP.sel(time=slice('1980', '1989'), z_t=slice(0,600e2)), \n",
    "            ds_t_rs.TEMP.sel(time=slice('1980', '1989'), z_t=slice(0,600e2)), \n",
    "            s=1, marker='o', label='1980s', c='blue')\n",
    "\n",
    "# plt.scatter(ds_s_rs.TEMP.sel(time=slice('2070','2079'), z_t=slice(0,600e2)), \n",
    "#             ds_t_rs.TEMP.sel(time=slice('2070','2079'), z_t=slice(0,600e2)), \n",
    "#             s=1, marker='o', label='2070s', c='orange')\n",
    "\n",
    "plt.legend(frameon=False)\n",
    "plt.title('T and S 0-600m');\n",
    "plt.ylabel(r'T [$^{\\circ}$C]');\n",
    "plt.xlabel(r'S [PSU]');"
   ]
  },
  {
   "cell_type": "markdown",
   "id": "6726f6b9-e8e8-4cf3-a557-843acc6dd1ce",
   "metadata": {},
   "source": [
    "# Make the figure"
   ]
  },
  {
   "cell_type": "code",
   "execution_count": null,
   "id": "d3c36d55-440a-471f-937c-3058defa3109",
   "metadata": {},
   "outputs": [],
   "source": [
    "# accurate averaging: sum(TEMP*TAREA*z_t)/sum(TAREA*z_t)"
   ]
  },
  {
   "cell_type": "code",
   "execution_count": null,
   "id": "f74cacd1-d647-455e-97e8-99dfaf5c681c",
   "metadata": {},
   "outputs": [],
   "source": [
    "z_t_600m = ds_t_rs.z_t.sel(z_t=slice(0,600e2))"
   ]
  },
  {
   "cell_type": "code",
   "execution_count": null,
   "id": "914d8464-7cea-48e0-9fd8-c8f8b6335951",
   "metadata": {},
   "outputs": [],
   "source": [
    "tarea_rs.shape"
   ]
  },
  {
   "cell_type": "code",
   "execution_count": null,
   "id": "8bcff97d-e3dd-4651-9231-c847975562bf",
   "metadata": {},
   "outputs": [],
   "source": [
    "(tarea_rs/1000000000000).plot(robust=True)"
   ]
  },
  {
   "cell_type": "code",
   "execution_count": null,
   "id": "98846935-55ae-44dd-8771-e33369bf7bda",
   "metadata": {},
   "outputs": [],
   "source": [
    "ds_t_rs.TEMP.sel(z_t=slice(0,600e2)).mean(dim=['z_t','nlat', 'nlon']).plot(label='mean')\n",
    "\n",
    "((ds_t_rs.TEMP.sel(z_t=slice(0,600e2))*tarea_rs.isel(nlat=slice(2,14))*z_t_600m).sum(dim=['z_t','nlat', 'nlon'])\n",
    " /\n",
    " (tarea_rs.isel(nlat=slice(2,14))*z_t_600m).sum(dim=['z_t','nlat', 'nlon'])).plot(ls=':', label='weighted mean')\n",
    "plt.legend()"
   ]
  },
  {
   "cell_type": "code",
   "execution_count": null,
   "id": "c67e41c5-08e4-4335-b7f3-3a7d38f9b6bb",
   "metadata": {},
   "outputs": [],
   "source": [
    "(\n",
    " ((ds_s_rs.TEMP.sel(z_t=slice(0,600e2))*z_t_600m)).sum('z_t')\n",
    " /\n",
    " (z_t_600m.sum('z_t'))\n",
    ").mean('time').plot(levels=np.arange(33.4,34.9,0.1), extend='both')"
   ]
  },
  {
   "cell_type": "code",
   "execution_count": null,
   "id": "788e458c-cb79-41d8-8f5b-57538d38e7f2",
   "metadata": {},
   "outputs": [],
   "source": [
    "ds_s_rs.TEMP.sel(z_t=slice(0,600e2)).mean(dim=['z_t','nlat', 'nlon']).plot(label='mean')\n",
    "\n",
    "((ds_s_rs.TEMP.sel(z_t=slice(0,600e2))*tarea_rs.isel(nlat=slice(2,14))*z_t_600m).sum(dim=['z_t','nlat', 'nlon'])\n",
    " /\n",
    " (tarea_rs.isel(nlat=slice(2,14))*z_t_600m).sum(dim=['z_t','nlat', 'nlon'])).plot(ls=':', label='weighted mean')\n",
    "plt.legend()"
   ]
  },
  {
   "cell_type": "code",
   "execution_count": null,
   "id": "a0c7461e-9ce3-4eb4-bf74-173c6dc0c8fe",
   "metadata": {},
   "outputs": [],
   "source": [
    "%%time\n",
    "# plot it\n",
    "f, (a0, a1) = plt.subplots(1, 2, gridspec_kw={'width_ratios': [2.5, 1]}, figsize=(14,3))\n",
    "t, =a0.plot(ds_t_rs.time, \n",
    "            ds_t_rsa.TEMP.sel(z_t=slice(0,600e2)).mean(dim=['z_t','nlat', 'nlon']), \n",
    "            c='blue', label='Temperature')\n",
    "a0.set_ylabel(R'[$^{\\circ}$C]')\n",
    "a0.set_yticks(np.arange(-0.6,-0.2,.1))\n",
    "asal = a0.twinx()\n",
    "s, =asal.plot(ds_s_rs.time, ds_s_rs.TEMP.sel(z_t=slice(0,600e2)).mean(dim=['z_t','nlat', 'nlon']), c='green', label='Salinity')\n",
    "asal.set_ylabel(R'[PSU]')\n",
    "asal.set_yticks(np.arange(34.3,34.5,0.1))\n",
    "plt.legend([t, s],[\"Temperature\", \"Salinity\"], loc='center right', frameon=False)\n",
    "\n",
    "a0.set_title('Ross Sea Mean 0-600m')\n",
    "\n",
    "a1.scatter(ds_s_rs.TEMP.sel(time=slice('2070','2079'), z_t=slice(0,600e2)), \n",
    "            ds_t_rs.TEMP.sel(time=slice('2070','2079'), z_t=slice(0,600e2)), \n",
    "            s=1, marker='o', label='2070s', c='lightblue')\n",
    "\n",
    "a1.scatter(ds_s_rs.TEMP.sel(time=slice('1980', '1989'), z_t=slice(0,600e2)), \n",
    "            ds_t_rs.TEMP.sel(time=slice('1980', '1989'), z_t=slice(0,600e2)), \n",
    "            s=1, marker='o', label='1980s', c='darkblue')\n",
    "\n",
    "a1.legend(frameon=False)\n",
    "# a1.set_title('T and S 0-600m');\n",
    "a1.set_ylabel(r'T [$^{\\circ}$C]');\n",
    "a1.set_xlabel(r'S [PSU]');\n",
    "\n",
    "f.tight_layout()\n",
    "f.savefig('RossSea_areamean_0-600m_T_S_ts_TS_Diagram.png', dpi=300, bbox_inches='tight')"
   ]
  },
  {
   "cell_type": "code",
   "execution_count": null,
   "id": "bdbd677e-84cd-4220-85d9-5e7de89fc8ec",
   "metadata": {},
   "outputs": [],
   "source": [
    "ds_t_rs.TEMP.sel(time=slice('1980', '1989'), z_t=slice(0,600e2)).mean().values"
   ]
  },
  {
   "cell_type": "code",
   "execution_count": null,
   "id": "2a4a020a-3e4c-4110-9b64-688f711826e4",
   "metadata": {},
   "outputs": [],
   "source": [
    "ds_t_rs.TEMP.sel(time=slice('2070', '2079'), z_t=slice(0,600e2)).mean().values"
   ]
  },
  {
   "cell_type": "code",
   "execution_count": null,
   "id": "da3a33f5-cad6-4f0e-99b9-92761be37ac3",
   "metadata": {},
   "outputs": [],
   "source": [
    "ds_t_rs.TEMP.sel(z_t=slice(0,600e2)).mean(dim=['z_t','nlat', 'nlon']).plot()"
   ]
  },
  {
   "cell_type": "code",
   "execution_count": null,
   "id": "11559c7b-1861-4a5f-8e0b-271811245e5c",
   "metadata": {},
   "outputs": [],
   "source": []
  },
  {
   "cell_type": "markdown",
   "id": "d123c3c0-b9fa-4407-8d08-7e0a420e7b08",
   "metadata": {},
   "source": [
    "### only in the mixed layer"
   ]
  },
  {
   "cell_type": "code",
   "execution_count": null,
   "id": "cda58bed-ca03-46ac-9ea9-5d604a4d187f",
   "metadata": {},
   "outputs": [],
   "source": [
    "temp_80s = ds_t_rs.TEMP.sel(time=slice('1980', '1989')).load()\n",
    "salt_80s = ds_s_rs.TEMP.sel(time=slice('1980', '1989')).load()\n",
    "hmxl_80s = ds_rs_hist_mix_sep.HMXL.sel(time=slice('1980', '1989'), nlat=slice(2,14)).mean('member_id').load()"
   ]
  },
  {
   "cell_type": "code",
   "execution_count": null,
   "id": "7374ce4e-39aa-4c71-8be0-eef807e38b7e",
   "metadata": {},
   "outputs": [],
   "source": [
    "hmxl_80s.mean().values/100"
   ]
  },
  {
   "cell_type": "code",
   "execution_count": null,
   "id": "5d179698-0c58-4f7e-ac91-2b75b223065c",
   "metadata": {},
   "outputs": [],
   "source": [
    "hmxl_70s.mean().values/100"
   ]
  },
  {
   "cell_type": "code",
   "execution_count": null,
   "id": "01ae6590-fb55-4b54-874a-c25b3249b8e3",
   "metadata": {},
   "outputs": [],
   "source": [
    "temp_70s = ds_t_rs.TEMP.sel(time=slice('2070', '2079')).load()\n",
    "salt_70s = ds_s_rs.TEMP.sel(time=slice('2070', '2079')).load()\n",
    "hmxl_70s = ds_rs_ssp_mix_sep.HMXL.sel(time=slice('2070', '2079'), nlat=slice(2,14)).mean('member_id').load()"
   ]
  },
  {
   "cell_type": "code",
   "execution_count": null,
   "id": "38434bdc-76ee-4ead-91fc-121e46c115a1",
   "metadata": {},
   "outputs": [],
   "source": [
    "z_t_80s = temp_80s.z_t.sel(z_t=hmxl_80s, method='nearest')"
   ]
  },
  {
   "cell_type": "code",
   "execution_count": null,
   "id": "837ef25f-7b40-4383-b922-11214f54fdea",
   "metadata": {},
   "outputs": [],
   "source": [
    "z_t_70s = temp_70s.z_t.sel(z_t=hmxl_70s, method='nearest')"
   ]
  },
  {
   "cell_type": "code",
   "execution_count": null,
   "id": "c95b1ded-a8d2-47d6-93c9-78b7e1a9a152",
   "metadata": {},
   "outputs": [],
   "source": [
    "mean_mxl_70s = (hmxl_70s.mean(['time', 'nlat', 'nlon'])).values\n",
    "mean_mxl_80s = (hmxl_80s.mean(['time', 'nlat', 'nlon'])).values"
   ]
  },
  {
   "cell_type": "code",
   "execution_count": null,
   "id": "f62e4c26-1866-43ba-9273-224ce43d7089",
   "metadata": {},
   "outputs": [],
   "source": [
    "temp_80s_in_mxl = temp_80s.sel(z_t=slice(0, mean_mxl_80s))\n",
    "salt_80s_in_mxl = salt_80s.sel(z_t=slice(0, mean_mxl_80s))"
   ]
  },
  {
   "cell_type": "code",
   "execution_count": null,
   "id": "636505b3-b84c-4b01-aacd-586fa8e095a6",
   "metadata": {},
   "outputs": [],
   "source": [
    "temp_70s_in_mxl = temp_70s.sel(z_t=slice(0, mean_mxl_70s))\n",
    "salt_70s_in_mxl = salt_70s.sel(z_t=slice(0, mean_mxl_70s))"
   ]
  },
  {
   "cell_type": "code",
   "execution_count": null,
   "id": "e1b29de9-478d-473d-a71f-c6c3b009fe95",
   "metadata": {},
   "outputs": [],
   "source": [
    "plt.scatter(salt_70s_in_mxl, \n",
    "            temp_70s_in_mxl, \n",
    "            s=1, marker='o', label='2070s', c='orange')\n",
    "\n",
    "plt.scatter(salt_80s_in_mxl, \n",
    "            temp_80s_in_mxl, \n",
    "            s=1, marker='o', label='1980s', c='blue')\n",
    "\n",
    "plt.legend(frameon=False)\n",
    "plt.title('T and S 0- Mean Mixed Layer Depth');\n",
    "plt.ylabel(r'T [$^{\\circ}$C]');\n",
    "plt.xlabel(r'S [PSU]');"
   ]
  },
  {
   "cell_type": "markdown",
   "id": "794e96f2-445b-413e-9518-ad1f6f1312ce",
   "metadata": {},
   "source": [
    "## Get Potential density to add\n",
    "POP's equation of state uses time invariant pressure: \n",
    "$$p0(z) = 0.059808[exp(−0.025z) − 1] + 0.100766z + 2.28405 × 10−7z^2$$\n",
    "\n",
    "And I don't actually know which one is used but since we really only want to put density lines on this diagram we're gonna use the most simple EOS:\n",
    "$$ρ = ρ0 − 2.5 −4Θ + 7.6 × 10^{−4} S $$"
   ]
  },
  {
   "cell_type": "code",
   "execution_count": null,
   "id": "ebbdbf7f-c3a4-4267-bcf7-203ea5340f4a",
   "metadata": {},
   "outputs": [],
   "source": [
    "def p0(z):\n",
    "    p = 0.059808 * (np.exp(-0.025*z)-1) + 0.100766 * z + 2.28405 * 10**(-7) * z**2\n",
    "    return p"
   ]
  },
  {
   "cell_type": "code",
   "execution_count": null,
   "id": "2a864d89-cd1c-40da-815e-d6152e23a81c",
   "metadata": {},
   "outputs": [],
   "source": [
    "p_for_this = p0(ds_hist_mix.z_t/100)"
   ]
  },
  {
   "cell_type": "code",
   "execution_count": null,
   "id": "a0f92a92-0a16-4200-abe3-c7f3a7121593",
   "metadata": {},
   "outputs": [],
   "source": [
    "temperature[10]"
   ]
  },
  {
   "cell_type": "code",
   "execution_count": null,
   "id": "4310728c-15b4-4922-ac79-d01339b3a0ca",
   "metadata": {},
   "outputs": [],
   "source": [
    "def rho(T, S, p0=p_for_this):\n",
    "    rho_0 = 1027# kg m−3\n",
    "    rho = rho_0 -2.5 - 4 * T + 7.6*10**(-4) * S\n",
    "    return rho"
   ]
  },
  {
   "cell_type": "code",
   "execution_count": null,
   "id": "be5f3e70-90e9-449c-9415-afa96d131727",
   "metadata": {
    "tags": []
   },
   "outputs": [],
   "source": [
    "for ti , t in enumerate(temperature):\n",
    "    print(1027 -2.5 - 4 * t + 7.6*10**(-4) * 34.2)"
   ]
  },
  {
   "cell_type": "code",
   "execution_count": null,
   "id": "7a875c7e-2bbb-42dd-84ac-286428559efa",
   "metadata": {},
   "outputs": [],
   "source": [
    "# this is wrong\n",
    "def rho2d(T, S, p0=p_for_this):\n",
    "    rho_0 = 1027# kg m−3\n",
    "    rho_2darr = np.zeros([T.shape[0], S.shape[0]])\n",
    "    # print(rho_2d.shape)\n",
    "    for ti, t in enumerate(T):\n",
    "        # print(ti)\n",
    "        rho_2darr[ti,:] = (rho_0 -2.5 - 4 * t + 7.6*10**(-4) * S)\n",
    "    return rho_2darr"
   ]
  },
  {
   "cell_type": "code",
   "execution_count": null,
   "id": "efd37748-9ad4-4bbe-a4a1-1b09345d3f3e",
   "metadata": {},
   "outputs": [],
   "source": [
    "rho_test_dummy_2d = rho2d(temperature, salinity, p0(z))"
   ]
  },
  {
   "cell_type": "code",
   "execution_count": null,
   "id": "c2b5e9ff-640f-497b-a02d-083fffef59c6",
   "metadata": {},
   "outputs": [],
   "source": [
    "rho_2d = np.zeros([51, 51])\n",
    "rho_2d.shape"
   ]
  },
  {
   "cell_type": "code",
   "execution_count": null,
   "id": "3b628e76-d24c-431c-9834-5824ef794c2d",
   "metadata": {},
   "outputs": [],
   "source": [
    "import pandas as pd"
   ]
  },
  {
   "cell_type": "code",
   "execution_count": null,
   "id": "215a5be2-1864-4353-bf2b-89fd3a1969de",
   "metadata": {},
   "outputs": [],
   "source": [
    "temperature.shape"
   ]
  },
  {
   "cell_type": "code",
   "execution_count": null,
   "id": "a67786c3-2054-433e-9ef4-954020555ab2",
   "metadata": {},
   "outputs": [],
   "source": [
    "np.random.seed(0)\n",
    "temperature = np.arange(-3, 2.1, 0.1)\n",
    "salinity = np.linspace(33, 35.1, len(temperature))\n",
    "z = np.linspace(0, 620, len(temperature))\n",
    "# time = pd.date_range(\"2014-09-06\", periods=1)\n",
    "reference_time = pd.Timestamp(\"2014-09-05\")\n",
    "\n",
    "da_t_dummy = xr.DataArray(\n",
    "    data=temperature, name='T',\n",
    "    dims=[\"z\"],#, \"time\"],\n",
    "    coords=dict(\n",
    "        z=([\"z\"], z),\n",
    "        # time=time,\n",
    "        reference_time=reference_time,\n",
    "    ),\n",
    "    attrs=dict(\n",
    "        description=\"Ocean temperature dummy\",\n",
    "        units=\"degC\",\n",
    "    ),\n",
    ")\n",
    "\n",
    "da_s_dummy = xr.DataArray(\n",
    "    data=salinity, name='S',\n",
    "    dims=[\"z\"],#, \"time\"],\n",
    "    coords=dict(\n",
    "        z=([\"z\"], z),\n",
    "        # time=time,\n",
    "        reference_time=reference_time,\n",
    "    ),\n",
    "    attrs=dict(\n",
    "        description=\"Ocean salinity dummy\",\n",
    "        units=\"PSU\",\n",
    "    ),\n",
    ")"
   ]
  },
  {
   "cell_type": "code",
   "execution_count": null,
   "id": "fabb562c-bb1d-499b-9dee-b5becc5ec62f",
   "metadata": {},
   "outputs": [],
   "source": [
    "rho_test_dummy = rho(da_t_dummy, da_s_dummy, p0(z))"
   ]
  },
  {
   "cell_type": "code",
   "execution_count": null,
   "id": "168fe7e7-7d8b-4e6c-8814-55dd1d7d0fa8",
   "metadata": {},
   "outputs": [],
   "source": [
    "# I need to create a 2D field of density depending on T and S how do I get that \n"
   ]
  },
  {
   "cell_type": "code",
   "execution_count": null,
   "id": "5f35d1d8-aab4-449b-a488-b0cba68f55a8",
   "metadata": {},
   "outputs": [],
   "source": [
    "plt.scatter(salt_70s_in_mxl, \n",
    "            temp_70s_in_mxl, \n",
    "            s=1, marker='o', label='2070s', c='orange')\n",
    "\n",
    "plt.scatter(salt_80s_in_mxl, \n",
    "            temp_80s_in_mxl, \n",
    "            s=1, marker='o', label='1980s', c='blue')\n",
    "\n",
    "plt.contour()\n",
    "\n",
    "plt.legend(frameon=False)\n",
    "plt.title('T and S 0- Mean Mixed Layer Depth');\n",
    "plt.ylabel(r'T [$^{\\circ}$C]');\n",
    "plt.xlabel(r'S [PSU]');"
   ]
  },
  {
   "cell_type": "code",
   "execution_count": null,
   "id": "f9d34dea-03b2-4b6b-8746-f141c2a9a9c0",
   "metadata": {},
   "outputs": [],
   "source": [
    "rho_test_dummy"
   ]
  },
  {
   "cell_type": "code",
   "execution_count": null,
   "id": "650873ae-c0b7-45fb-9f67-a76dcf05226f",
   "metadata": {},
   "outputs": [],
   "source": [
    "rho_test = rho(temp_70s.isel(time=0, nlat=6, nlon=20), salt_70s.isel(time=0, nlat=6, nlon=20))"
   ]
  },
  {
   "cell_type": "code",
   "execution_count": null,
   "id": "be3a19ff-f47e-4ffe-9f68-b2ebf5bb86ee",
   "metadata": {
    "tags": []
   },
   "outputs": [],
   "source": [
    "that_day_pd = ds_spp_pd.PD.sel(time='2070-09').load()"
   ]
  },
  {
   "cell_type": "code",
   "execution_count": null,
   "id": "30cacdd6-1d3f-4bc1-8492-c3b894e7c8b1",
   "metadata": {
    "tags": []
   },
   "outputs": [],
   "source": [
    "ds_spp_pd.PD.sel(time='2070-09').where((ds_spp_pd.TLONG > 160) & (ds_spp_pd.TLONG.values < 210) & (ds_spp_pd.TLAT < -72), drop=True)"
   ]
  },
  {
   "cell_type": "code",
   "execution_count": null,
   "id": "a570b57b-16d5-4ddc-af23-ab79e3e9a7e2",
   "metadata": {},
   "outputs": [],
   "source": [
    "rho_test.plot()"
   ]
  },
  {
   "cell_type": "code",
   "execution_count": null,
   "id": "a6c67aba-a1e5-4ccb-a0d7-7ce36998174e",
   "metadata": {},
   "outputs": [],
   "source": [
    "plt.plot(ds_hist_mix.z_t/100, p_for_this)"
   ]
  },
  {
   "cell_type": "code",
   "execution_count": null,
   "id": "995f2e68-db57-4381-bf20-10a3b7d7cc5b",
   "metadata": {},
   "outputs": [],
   "source": [
    "%%time\n",
    "var = ['PD']\n",
    "# get the historical\n",
    "subset_hist = catalog.search(component='ocn',\n",
    "                        variable=var,\n",
    "                        experiment=['historical', 'ssp370'],\n",
    "                        forcing_variant='cmip6')"
   ]
  },
  {
   "cell_type": "code",
   "execution_count": null,
   "id": "4802a0a5-4385-4e77-b776-8561b2ac34e5",
   "metadata": {},
   "outputs": [],
   "source": [
    "cluster.scale(24)"
   ]
  },
  {
   "cell_type": "code",
   "execution_count": null,
   "id": "2e7175b8-00d5-4570-b7e6-7b8875ec6334",
   "metadata": {},
   "outputs": [],
   "source": [
    "%%time\n",
    "with dask.config.set(**{'array.slicing.split_large_chunks': True}):\n",
    "    dsets_pd = subset_hist.to_dataset_dict(preprocess=preprocess)"
   ]
  },
  {
   "cell_type": "code",
   "execution_count": null,
   "id": "50397f68-b287-479a-832c-99a774ca2352",
   "metadata": {},
   "outputs": [],
   "source": [
    "%%time\n",
    "# here we join the two variables into one dataset \n",
    "my_key_pd = 'ocn.historical.pop.h.cmip6.PD' \n",
    "ds_tmp_pd = dsets_pd[my_key_pd]\n",
    "\n",
    "my_key_pd = 'ocn.ssp370.pop.h.cmip6.PD'\n",
    "ds_hist_pd = dsets_pd[my_key_pd]"
   ]
  },
  {
   "cell_type": "code",
   "execution_count": null,
   "id": "8c3f0500-45ff-4b75-8b43-27755c8bb72c",
   "metadata": {},
   "outputs": [],
   "source": [
    "keep_vars = ['z_t', 'z_w_bot','z_t_150m','time_bound','dz','TLAT','TLONG','time', 'REGION_MASK', 'hflux_factor'] + var\n",
    "\n",
    "ds_histor_pd = ds_tmp_pd.drop([v for v in ds_tmp_pd.variables if v not in keep_vars])\n",
    "ds_spp_pd = ds_hist_pd.drop([v for v in ds_hist_pd.variables if v not in keep_vars])"
   ]
  },
  {
   "cell_type": "code",
   "execution_count": null,
   "id": "d318b5a4-4bce-4068-a0f4-8e75481f1d77",
   "metadata": {},
   "outputs": [],
   "source": [
    "ds_pd = xr.concat([ds_histor_pd, ds_spp_pd], dim='time')\n",
    "\n",
    "#fix time dimension so it's a mean of the timebounds\n",
    "ds_pd['time']= ds_pd.time_bound.compute().mean(dim=\"d2\")"
   ]
  },
  {
   "cell_type": "code",
   "execution_count": null,
   "id": "449271b0-69c7-4c6a-8850-3c058c9763df",
   "metadata": {},
   "outputs": [],
   "source": []
  }
 ],
 "metadata": {
  "kernelspec": {
   "display_name": "Python [conda env:miniconda3-analysis3]",
   "language": "python",
   "name": "conda-env-miniconda3-analysis3-py"
  },
  "language_info": {
   "codemirror_mode": {
    "name": "ipython",
    "version": 3
   },
   "file_extension": ".py",
   "mimetype": "text/x-python",
   "name": "python",
   "nbconvert_exporter": "python",
   "pygments_lexer": "ipython3",
   "version": "3.7.12"
  }
 },
 "nbformat": 4,
 "nbformat_minor": 5
}
